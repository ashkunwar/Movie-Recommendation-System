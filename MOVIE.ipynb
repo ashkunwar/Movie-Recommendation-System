{
 "cells": [
  {
   "cell_type": "code",
   "execution_count": 1,
   "id": "653b462f-2ace-4e57-89b7-03b74b7304cd",
   "metadata": {
    "tags": []
   },
   "outputs": [],
   "source": [
    "import numpy as np\n",
    "import pandas as pd"
   ]
  },
  {
   "cell_type": "code",
   "execution_count": 2,
   "id": "7f38a39e-114c-4428-9cfd-cc7001233630",
   "metadata": {
    "tags": []
   },
   "outputs": [],
   "source": [
    "df=pd.read_csv('movies.csv')"
   ]
  },
  {
   "cell_type": "code",
   "execution_count": 3,
   "id": "0177e395-3a68-4f5e-828a-b0a0dd4a295c",
   "metadata": {
    "tags": []
   },
   "outputs": [
    {
     "data": {
      "text/html": [
       "<div>\n",
       "<style scoped>\n",
       "    .dataframe tbody tr th:only-of-type {\n",
       "        vertical-align: middle;\n",
       "    }\n",
       "\n",
       "    .dataframe tbody tr th {\n",
       "        vertical-align: top;\n",
       "    }\n",
       "\n",
       "    .dataframe thead th {\n",
       "        text-align: right;\n",
       "    }\n",
       "</style>\n",
       "<table border=\"1\" class=\"dataframe\">\n",
       "  <thead>\n",
       "    <tr style=\"text-align: right;\">\n",
       "      <th></th>\n",
       "      <th>id</th>\n",
       "      <th>title</th>\n",
       "      <th>genres</th>\n",
       "      <th>original_language</th>\n",
       "      <th>overview</th>\n",
       "      <th>popularity</th>\n",
       "      <th>production_companies</th>\n",
       "      <th>release_date</th>\n",
       "      <th>budget</th>\n",
       "      <th>revenue</th>\n",
       "      <th>runtime</th>\n",
       "      <th>status</th>\n",
       "      <th>tagline</th>\n",
       "      <th>vote_average</th>\n",
       "      <th>vote_count</th>\n",
       "      <th>credits</th>\n",
       "      <th>keywords</th>\n",
       "      <th>poster_path</th>\n",
       "      <th>backdrop_path</th>\n",
       "      <th>recommendations</th>\n",
       "    </tr>\n",
       "  </thead>\n",
       "  <tbody>\n",
       "    <tr>\n",
       "      <th>0</th>\n",
       "      <td>823464</td>\n",
       "      <td>Godzilla x Kong: The New Empire</td>\n",
       "      <td>Science Fiction-Action-Adventure</td>\n",
       "      <td>en</td>\n",
       "      <td>Following their explosive showdown Godzilla an...</td>\n",
       "      <td>10484.676</td>\n",
       "      <td>Legendary Pictures-Warner Bros. Pictures</td>\n",
       "      <td>2024-03-27</td>\n",
       "      <td>150000000.0</td>\n",
       "      <td>558503759.0</td>\n",
       "      <td>115.0</td>\n",
       "      <td>Released</td>\n",
       "      <td>Rise together or fall alone.</td>\n",
       "      <td>7.246</td>\n",
       "      <td>1878.0</td>\n",
       "      <td>Rebecca Hall-Brian Tyree Henry-Dan Stevens-Kay...</td>\n",
       "      <td>giant monster-sequel-dinosaur-kaiju-fantasy wo...</td>\n",
       "      <td>/v4uvGFAkKuYfyKLGZnYj6l47ERQ.jpg</td>\n",
       "      <td>/j3Z3XktmWB1VhsS8iXNcrR86PXi.jpg</td>\n",
       "      <td>1011985-1275232-359410-601796-967847-653346-69...</td>\n",
       "    </tr>\n",
       "    <tr>\n",
       "      <th>1</th>\n",
       "      <td>615656</td>\n",
       "      <td>Meg 2: The Trench</td>\n",
       "      <td>Action-Science Fiction-Horror</td>\n",
       "      <td>en</td>\n",
       "      <td>An exploratory dive into the deepest depths of...</td>\n",
       "      <td>8763.998</td>\n",
       "      <td>Apelles Entertainment-Warner Bros. Pictures-di...</td>\n",
       "      <td>2023-08-02</td>\n",
       "      <td>129000000.0</td>\n",
       "      <td>352056482.0</td>\n",
       "      <td>116.0</td>\n",
       "      <td>Released</td>\n",
       "      <td>Back for seconds.</td>\n",
       "      <td>7.079</td>\n",
       "      <td>1365.0</td>\n",
       "      <td>Jason Statham-Wu Jing-Shuya Sophia Cai-Sergio ...</td>\n",
       "      <td>based on novel or book-sequel-kaiju</td>\n",
       "      <td>/4m1Au3YkjqsxF8iwQy0fPYSxE0h.jpg</td>\n",
       "      <td>/qlxy8yo5bcgUw2KAmmojUKp4rHd.jpg</td>\n",
       "      <td>1006462-298618-569094-1061181-346698-1076487-6...</td>\n",
       "    </tr>\n",
       "    <tr>\n",
       "      <th>2</th>\n",
       "      <td>758323</td>\n",
       "      <td>The Pope's Exorcist</td>\n",
       "      <td>Horror-Mystery-Thriller</td>\n",
       "      <td>en</td>\n",
       "      <td>Father Gabriele Amorth Chief Exorcist of the V...</td>\n",
       "      <td>5953.227</td>\n",
       "      <td>Screen Gems-2.0 Entertainment-Jesus &amp; Mary-Wor...</td>\n",
       "      <td>2023-04-05</td>\n",
       "      <td>18000000.0</td>\n",
       "      <td>65675816.0</td>\n",
       "      <td>103.0</td>\n",
       "      <td>Released</td>\n",
       "      <td>Inspired by the actual files of Father Gabriel...</td>\n",
       "      <td>7.433</td>\n",
       "      <td>545.0</td>\n",
       "      <td>Russell Crowe-Daniel Zovatto-Alex Essoe-Franco...</td>\n",
       "      <td>spain-rome italy-vatican-pope-pig-possession-c...</td>\n",
       "      <td>/9JBEPLTPSm0d1mbEcLxULjJq9Eh.jpg</td>\n",
       "      <td>/hiHGRbyTcbZoLsYYkO4QiCLYe34.jpg</td>\n",
       "      <td>713704-296271-502356-1076605-1084225-1008005-9...</td>\n",
       "    </tr>\n",
       "    <tr>\n",
       "      <th>3</th>\n",
       "      <td>667538</td>\n",
       "      <td>Transformers: Rise of the Beasts</td>\n",
       "      <td>Action-Adventure-Science Fiction</td>\n",
       "      <td>en</td>\n",
       "      <td>When a new threat capable of destroying the en...</td>\n",
       "      <td>5409.104</td>\n",
       "      <td>Skydance-Paramount-di Bonaventura Pictures-Bay...</td>\n",
       "      <td>2023-06-06</td>\n",
       "      <td>200000000.0</td>\n",
       "      <td>407045464.0</td>\n",
       "      <td>127.0</td>\n",
       "      <td>Released</td>\n",
       "      <td>Unite or fall.</td>\n",
       "      <td>7.340</td>\n",
       "      <td>1007.0</td>\n",
       "      <td>Anthony Ramos-Dominique Fishback-Luna Lauren V...</td>\n",
       "      <td>peru-alien-end of the world-based on cartoon-b...</td>\n",
       "      <td>/gPbM0MK8CP8A174rmUwGsADNYKD.jpg</td>\n",
       "      <td>/woJbg7ZqidhpvqFGGMRhWQNoxwa.jpg</td>\n",
       "      <td>496450-569094-298618-385687-877100-598331-4628...</td>\n",
       "    </tr>\n",
       "    <tr>\n",
       "      <th>4</th>\n",
       "      <td>693134</td>\n",
       "      <td>Dune: Part Two</td>\n",
       "      <td>Science Fiction-Adventure</td>\n",
       "      <td>en</td>\n",
       "      <td>Follow the mythic journey of Paul Atreides as ...</td>\n",
       "      <td>4742.163</td>\n",
       "      <td>Legendary Pictures</td>\n",
       "      <td>2024-02-27</td>\n",
       "      <td>190000000.0</td>\n",
       "      <td>683813734.0</td>\n",
       "      <td>167.0</td>\n",
       "      <td>Released</td>\n",
       "      <td>Long live the fighters.</td>\n",
       "      <td>8.300</td>\n",
       "      <td>2770.0</td>\n",
       "      <td>Timothée Chalamet-Zendaya-Rebecca Ferguson-Jav...</td>\n",
       "      <td>epic-based on novel or book-fight-sandstorm-sa...</td>\n",
       "      <td>/czembW0Rk1Ke7lCJGahbOhdCuhV.jpg</td>\n",
       "      <td>/xOMo8BRK7PfcJv9JCnx7s5hj0PX.jpg</td>\n",
       "      <td>438631-763215-792307-1011985-467244-634492-359...</td>\n",
       "    </tr>\n",
       "  </tbody>\n",
       "</table>\n",
       "</div>"
      ],
      "text/plain": [
       "       id                             title                            genres  \\\n",
       "0  823464   Godzilla x Kong: The New Empire  Science Fiction-Action-Adventure   \n",
       "1  615656                 Meg 2: The Trench     Action-Science Fiction-Horror   \n",
       "2  758323               The Pope's Exorcist           Horror-Mystery-Thriller   \n",
       "3  667538  Transformers: Rise of the Beasts  Action-Adventure-Science Fiction   \n",
       "4  693134                    Dune: Part Two         Science Fiction-Adventure   \n",
       "\n",
       "  original_language                                           overview  \\\n",
       "0                en  Following their explosive showdown Godzilla an...   \n",
       "1                en  An exploratory dive into the deepest depths of...   \n",
       "2                en  Father Gabriele Amorth Chief Exorcist of the V...   \n",
       "3                en  When a new threat capable of destroying the en...   \n",
       "4                en  Follow the mythic journey of Paul Atreides as ...   \n",
       "\n",
       "   popularity                               production_companies release_date  \\\n",
       "0   10484.676           Legendary Pictures-Warner Bros. Pictures   2024-03-27   \n",
       "1    8763.998  Apelles Entertainment-Warner Bros. Pictures-di...   2023-08-02   \n",
       "2    5953.227  Screen Gems-2.0 Entertainment-Jesus & Mary-Wor...   2023-04-05   \n",
       "3    5409.104  Skydance-Paramount-di Bonaventura Pictures-Bay...   2023-06-06   \n",
       "4    4742.163                                 Legendary Pictures   2024-02-27   \n",
       "\n",
       "        budget      revenue  runtime    status  \\\n",
       "0  150000000.0  558503759.0    115.0  Released   \n",
       "1  129000000.0  352056482.0    116.0  Released   \n",
       "2   18000000.0   65675816.0    103.0  Released   \n",
       "3  200000000.0  407045464.0    127.0  Released   \n",
       "4  190000000.0  683813734.0    167.0  Released   \n",
       "\n",
       "                                             tagline  vote_average  \\\n",
       "0                       Rise together or fall alone.         7.246   \n",
       "1                                  Back for seconds.         7.079   \n",
       "2  Inspired by the actual files of Father Gabriel...         7.433   \n",
       "3                                     Unite or fall.         7.340   \n",
       "4                            Long live the fighters.         8.300   \n",
       "\n",
       "   vote_count                                            credits  \\\n",
       "0      1878.0  Rebecca Hall-Brian Tyree Henry-Dan Stevens-Kay...   \n",
       "1      1365.0  Jason Statham-Wu Jing-Shuya Sophia Cai-Sergio ...   \n",
       "2       545.0  Russell Crowe-Daniel Zovatto-Alex Essoe-Franco...   \n",
       "3      1007.0  Anthony Ramos-Dominique Fishback-Luna Lauren V...   \n",
       "4      2770.0  Timothée Chalamet-Zendaya-Rebecca Ferguson-Jav...   \n",
       "\n",
       "                                            keywords  \\\n",
       "0  giant monster-sequel-dinosaur-kaiju-fantasy wo...   \n",
       "1                based on novel or book-sequel-kaiju   \n",
       "2  spain-rome italy-vatican-pope-pig-possession-c...   \n",
       "3  peru-alien-end of the world-based on cartoon-b...   \n",
       "4  epic-based on novel or book-fight-sandstorm-sa...   \n",
       "\n",
       "                        poster_path                     backdrop_path  \\\n",
       "0  /v4uvGFAkKuYfyKLGZnYj6l47ERQ.jpg  /j3Z3XktmWB1VhsS8iXNcrR86PXi.jpg   \n",
       "1  /4m1Au3YkjqsxF8iwQy0fPYSxE0h.jpg  /qlxy8yo5bcgUw2KAmmojUKp4rHd.jpg   \n",
       "2  /9JBEPLTPSm0d1mbEcLxULjJq9Eh.jpg  /hiHGRbyTcbZoLsYYkO4QiCLYe34.jpg   \n",
       "3  /gPbM0MK8CP8A174rmUwGsADNYKD.jpg  /woJbg7ZqidhpvqFGGMRhWQNoxwa.jpg   \n",
       "4  /czembW0Rk1Ke7lCJGahbOhdCuhV.jpg  /xOMo8BRK7PfcJv9JCnx7s5hj0PX.jpg   \n",
       "\n",
       "                                     recommendations  \n",
       "0  1011985-1275232-359410-601796-967847-653346-69...  \n",
       "1  1006462-298618-569094-1061181-346698-1076487-6...  \n",
       "2  713704-296271-502356-1076605-1084225-1008005-9...  \n",
       "3  496450-569094-298618-385687-877100-598331-4628...  \n",
       "4  438631-763215-792307-1011985-467244-634492-359...  "
      ]
     },
     "execution_count": 3,
     "metadata": {},
     "output_type": "execute_result"
    }
   ],
   "source": [
    "df.head()"
   ]
  },
  {
   "cell_type": "code",
   "execution_count": 4,
   "id": "94d45aeb-1f50-445a-91f0-bc3b08271f44",
   "metadata": {
    "tags": []
   },
   "outputs": [
    {
     "data": {
      "text/html": [
       "<div>\n",
       "<style scoped>\n",
       "    .dataframe tbody tr th:only-of-type {\n",
       "        vertical-align: middle;\n",
       "    }\n",
       "\n",
       "    .dataframe tbody tr th {\n",
       "        vertical-align: top;\n",
       "    }\n",
       "\n",
       "    .dataframe thead th {\n",
       "        text-align: right;\n",
       "    }\n",
       "</style>\n",
       "<table border=\"1\" class=\"dataframe\">\n",
       "  <thead>\n",
       "    <tr style=\"text-align: right;\">\n",
       "      <th></th>\n",
       "      <th>id</th>\n",
       "      <th>title</th>\n",
       "      <th>genres</th>\n",
       "      <th>original_language</th>\n",
       "      <th>overview</th>\n",
       "      <th>popularity</th>\n",
       "      <th>production_companies</th>\n",
       "      <th>release_date</th>\n",
       "      <th>budget</th>\n",
       "      <th>revenue</th>\n",
       "      <th>runtime</th>\n",
       "      <th>status</th>\n",
       "      <th>tagline</th>\n",
       "      <th>vote_average</th>\n",
       "      <th>vote_count</th>\n",
       "      <th>credits</th>\n",
       "      <th>keywords</th>\n",
       "      <th>poster_path</th>\n",
       "      <th>backdrop_path</th>\n",
       "      <th>recommendations</th>\n",
       "    </tr>\n",
       "  </thead>\n",
       "  <tbody>\n",
       "    <tr>\n",
       "      <th>150650</th>\n",
       "      <td>206018</td>\n",
       "      <td>Asignatura pendiente</td>\n",
       "      <td>Drama</td>\n",
       "      <td>es</td>\n",
       "      <td>Joseph and Helen who had been boyfriends there...</td>\n",
       "      <td>1.400</td>\n",
       "      <td>José Luis Tafur P.C.</td>\n",
       "      <td>1977-04-18</td>\n",
       "      <td>0.0</td>\n",
       "      <td>0.0</td>\n",
       "      <td>109.0</td>\n",
       "      <td>Released</td>\n",
       "      <td>NaN</td>\n",
       "      <td>6.8</td>\n",
       "      <td>8.0</td>\n",
       "      <td>José Sacristán-Fiorella Faltoyano-Antonio Game...</td>\n",
       "      <td>NaN</td>\n",
       "      <td>/jz9F3b5yhvbHKlZaha8j3fCrgSJ.jpg</td>\n",
       "      <td>NaN</td>\n",
       "      <td>NaN</td>\n",
       "    </tr>\n",
       "    <tr>\n",
       "      <th>251499</th>\n",
       "      <td>777624</td>\n",
       "      <td>Rome : l'armée des bâtisseurs</td>\n",
       "      <td>Documentary</td>\n",
       "      <td>fr</td>\n",
       "      <td>NaN</td>\n",
       "      <td>0.874</td>\n",
       "      <td>RMC Découverte</td>\n",
       "      <td>2020-12-19</td>\n",
       "      <td>0.0</td>\n",
       "      <td>0.0</td>\n",
       "      <td>0.0</td>\n",
       "      <td>Released</td>\n",
       "      <td>NaN</td>\n",
       "      <td>0.0</td>\n",
       "      <td>0.0</td>\n",
       "      <td>NaN</td>\n",
       "      <td>NaN</td>\n",
       "      <td>/w076MUilbJkf2oGCpqgLbVcA9dG.jpg</td>\n",
       "      <td>NaN</td>\n",
       "      <td>NaN</td>\n",
       "    </tr>\n",
       "    <tr>\n",
       "      <th>415835</th>\n",
       "      <td>191180</td>\n",
       "      <td>The Star Boarder</td>\n",
       "      <td>Crime-Comedy</td>\n",
       "      <td>en</td>\n",
       "      <td>Larry's absurdly plush life of ease as a convi...</td>\n",
       "      <td>0.600</td>\n",
       "      <td>Vitagraph Company of America</td>\n",
       "      <td>1919-05-26</td>\n",
       "      <td>0.0</td>\n",
       "      <td>0.0</td>\n",
       "      <td>20.0</td>\n",
       "      <td>Released</td>\n",
       "      <td>NaN</td>\n",
       "      <td>9.0</td>\n",
       "      <td>1.0</td>\n",
       "      <td>Larry Semon-Lucille Carlisle-William Hauber-Ch...</td>\n",
       "      <td>silent film</td>\n",
       "      <td>/pnDlb8O8jUZHJsEHOCLAykHz5N4.jpg</td>\n",
       "      <td>NaN</td>\n",
       "      <td>NaN</td>\n",
       "    </tr>\n",
       "    <tr>\n",
       "      <th>496411</th>\n",
       "      <td>571434</td>\n",
       "      <td>Aimless</td>\n",
       "      <td>NaN</td>\n",
       "      <td>vi</td>\n",
       "      <td>Leaving their village to earn a living in the ...</td>\n",
       "      <td>0.600</td>\n",
       "      <td>NaN</td>\n",
       "      <td>2013-03-16</td>\n",
       "      <td>0.0</td>\n",
       "      <td>0.0</td>\n",
       "      <td>86.0</td>\n",
       "      <td>Released</td>\n",
       "      <td>NaN</td>\n",
       "      <td>0.0</td>\n",
       "      <td>0.0</td>\n",
       "      <td>NaN</td>\n",
       "      <td>NaN</td>\n",
       "      <td>/i5mu3V3IwXmqdyb7cu42bDkb1DW.jpg</td>\n",
       "      <td>NaN</td>\n",
       "      <td>NaN</td>\n",
       "    </tr>\n",
       "    <tr>\n",
       "      <th>211151</th>\n",
       "      <td>443124</td>\n",
       "      <td>Hatsune Miku Final 39's Giving Day</td>\n",
       "      <td>Music</td>\n",
       "      <td>ja</td>\n",
       "      <td>NaN</td>\n",
       "      <td>1.094</td>\n",
       "      <td>NaN</td>\n",
       "      <td>2012-03-09</td>\n",
       "      <td>0.0</td>\n",
       "      <td>0.0</td>\n",
       "      <td>120.0</td>\n",
       "      <td>Released</td>\n",
       "      <td>NaN</td>\n",
       "      <td>0.0</td>\n",
       "      <td>0.0</td>\n",
       "      <td>Hatsune Miku</td>\n",
       "      <td>NaN</td>\n",
       "      <td>/zNlu7itap5yFJUZfkTnflCG2L25.jpg</td>\n",
       "      <td>/4A7mLMnKDfFH9iaBBp9vuGlZwVa.jpg</td>\n",
       "      <td>NaN</td>\n",
       "    </tr>\n",
       "  </tbody>\n",
       "</table>\n",
       "</div>"
      ],
      "text/plain": [
       "            id                               title        genres  \\\n",
       "150650  206018                Asignatura pendiente         Drama   \n",
       "251499  777624       Rome : l'armée des bâtisseurs   Documentary   \n",
       "415835  191180                    The Star Boarder  Crime-Comedy   \n",
       "496411  571434                             Aimless           NaN   \n",
       "211151  443124  Hatsune Miku Final 39's Giving Day         Music   \n",
       "\n",
       "       original_language                                           overview  \\\n",
       "150650                es  Joseph and Helen who had been boyfriends there...   \n",
       "251499                fr                                                NaN   \n",
       "415835                en  Larry's absurdly plush life of ease as a convi...   \n",
       "496411                vi  Leaving their village to earn a living in the ...   \n",
       "211151                ja                                                NaN   \n",
       "\n",
       "        popularity          production_companies release_date  budget  \\\n",
       "150650       1.400          José Luis Tafur P.C.   1977-04-18     0.0   \n",
       "251499       0.874                RMC Découverte   2020-12-19     0.0   \n",
       "415835       0.600  Vitagraph Company of America   1919-05-26     0.0   \n",
       "496411       0.600                           NaN   2013-03-16     0.0   \n",
       "211151       1.094                           NaN   2012-03-09     0.0   \n",
       "\n",
       "        revenue  runtime    status tagline  vote_average  vote_count  \\\n",
       "150650      0.0    109.0  Released     NaN           6.8         8.0   \n",
       "251499      0.0      0.0  Released     NaN           0.0         0.0   \n",
       "415835      0.0     20.0  Released     NaN           9.0         1.0   \n",
       "496411      0.0     86.0  Released     NaN           0.0         0.0   \n",
       "211151      0.0    120.0  Released     NaN           0.0         0.0   \n",
       "\n",
       "                                                  credits     keywords  \\\n",
       "150650  José Sacristán-Fiorella Faltoyano-Antonio Game...          NaN   \n",
       "251499                                                NaN          NaN   \n",
       "415835  Larry Semon-Lucille Carlisle-William Hauber-Ch...  silent film   \n",
       "496411                                                NaN          NaN   \n",
       "211151                                       Hatsune Miku          NaN   \n",
       "\n",
       "                             poster_path                     backdrop_path  \\\n",
       "150650  /jz9F3b5yhvbHKlZaha8j3fCrgSJ.jpg                               NaN   \n",
       "251499  /w076MUilbJkf2oGCpqgLbVcA9dG.jpg                               NaN   \n",
       "415835  /pnDlb8O8jUZHJsEHOCLAykHz5N4.jpg                               NaN   \n",
       "496411  /i5mu3V3IwXmqdyb7cu42bDkb1DW.jpg                               NaN   \n",
       "211151  /zNlu7itap5yFJUZfkTnflCG2L25.jpg  /4A7mLMnKDfFH9iaBBp9vuGlZwVa.jpg   \n",
       "\n",
       "       recommendations  \n",
       "150650             NaN  \n",
       "251499             NaN  \n",
       "415835             NaN  \n",
       "496411             NaN  \n",
       "211151             NaN  "
      ]
     },
     "execution_count": 4,
     "metadata": {},
     "output_type": "execute_result"
    }
   ],
   "source": [
    "df.sample(5)"
   ]
  },
  {
   "cell_type": "code",
   "execution_count": 5,
   "id": "8f473234-1798-454c-8cbe-8616c963dd62",
   "metadata": {
    "tags": []
   },
   "outputs": [
    {
     "name": "stdout",
     "output_type": "stream",
     "text": [
      "<class 'pandas.core.frame.DataFrame'>\n",
      "RangeIndex: 518754 entries, 0 to 518753\n",
      "Data columns (total 20 columns):\n",
      " #   Column                Non-Null Count   Dtype  \n",
      "---  ------                --------------   -----  \n",
      " 0   id                    518754 non-null  int64  \n",
      " 1   title                 518753 non-null  object \n",
      " 2   genres                399043 non-null  object \n",
      " 3   original_language     518754 non-null  object \n",
      " 4   overview              447431 non-null  object \n",
      " 5   popularity            518754 non-null  float64\n",
      " 6   production_companies  275087 non-null  object \n",
      " 7   release_date          496888 non-null  object \n",
      " 8   budget                518754 non-null  float64\n",
      " 9   revenue               518754 non-null  float64\n",
      " 10  runtime               490894 non-null  float64\n",
      " 11  status                518754 non-null  object \n",
      " 12  tagline               91766 non-null   object \n",
      " 13  vote_average          518754 non-null  float64\n",
      " 14  vote_count            518754 non-null  float64\n",
      " 15  credits               396047 non-null  object \n",
      " 16  keywords              180315 non-null  object \n",
      " 17  poster_path           411199 non-null  object \n",
      " 18  backdrop_path         194640 non-null  object \n",
      " 19  recommendations       35391 non-null   object \n",
      "dtypes: float64(6), int64(1), object(13)\n",
      "memory usage: 79.2+ MB\n"
     ]
    }
   ],
   "source": [
    "df.info()"
   ]
  },
  {
   "cell_type": "code",
   "execution_count": 6,
   "id": "a93803a6-b934-4c00-8e1d-96ff0fc6f04e",
   "metadata": {
    "tags": []
   },
   "outputs": [
    {
     "data": {
      "text/plain": [
       "id                           0\n",
       "title                        1\n",
       "genres                  119711\n",
       "original_language            0\n",
       "overview                 71323\n",
       "popularity                   0\n",
       "production_companies    243667\n",
       "release_date             21866\n",
       "budget                       0\n",
       "revenue                      0\n",
       "runtime                  27860\n",
       "status                       0\n",
       "tagline                 426988\n",
       "vote_average                 0\n",
       "vote_count                   0\n",
       "credits                 122707\n",
       "keywords                338439\n",
       "poster_path             107555\n",
       "backdrop_path           324114\n",
       "recommendations         483363\n",
       "dtype: int64"
      ]
     },
     "execution_count": 6,
     "metadata": {},
     "output_type": "execute_result"
    }
   ],
   "source": [
    "df.isnull().sum()"
   ]
  },
  {
   "cell_type": "code",
   "execution_count": 7,
   "id": "814e3b79-e484-49e8-bb01-26610facaff2",
   "metadata": {
    "tags": []
   },
   "outputs": [],
   "source": [
    "df.drop_duplicates(inplace=True)"
   ]
  },
  {
   "cell_type": "code",
   "execution_count": 8,
   "id": "764e870c-9fc2-41da-964a-e36c688c1d23",
   "metadata": {
    "tags": []
   },
   "outputs": [
    {
     "data": {
      "text/plain": [
       "51863"
      ]
     },
     "execution_count": 8,
     "metadata": {},
     "output_type": "execute_result"
    }
   ],
   "source": [
    "df[['title','release_date']].duplicated().sum()"
   ]
  },
  {
   "cell_type": "code",
   "execution_count": 9,
   "id": "a8821eea-264c-495b-b178-0eec48e429ff",
   "metadata": {
    "tags": []
   },
   "outputs": [],
   "source": [
    "df.drop_duplicates(subset=['title','release_date'],inplace=True)"
   ]
  },
  {
   "cell_type": "code",
   "execution_count": 10,
   "id": "2039fd35-1a0c-4033-9bd0-b761f8e38e83",
   "metadata": {
    "tags": []
   },
   "outputs": [],
   "source": [
    "df.fillna('',inplace=True)\n",
    "null_value=df[(df['genres']=='') & (df['overview']=='')].index\n",
    "df.drop(null_value,inplace=True)"
   ]
  },
  {
   "cell_type": "code",
   "execution_count": 11,
   "id": "00611ebe-92e8-4c7e-8893-130944b8f1a9",
   "metadata": {
    "tags": []
   },
   "outputs": [
    {
     "data": {
      "text/plain": [
       "id                      0\n",
       "title                   0\n",
       "genres                  0\n",
       "original_language       0\n",
       "overview                0\n",
       "popularity              0\n",
       "production_companies    0\n",
       "release_date            0\n",
       "budget                  0\n",
       "revenue                 0\n",
       "runtime                 0\n",
       "status                  0\n",
       "tagline                 0\n",
       "vote_average            0\n",
       "vote_count              0\n",
       "credits                 0\n",
       "keywords                0\n",
       "poster_path             0\n",
       "backdrop_path           0\n",
       "recommendations         0\n",
       "dtype: int64"
      ]
     },
     "execution_count": 11,
     "metadata": {},
     "output_type": "execute_result"
    }
   ],
   "source": [
    "df.isnull().sum() "
   ]
  },
  {
   "cell_type": "code",
   "execution_count": 12,
   "id": "246b8b95-ddd5-4fcf-b017-8b06ee879da0",
   "metadata": {
    "tags": []
   },
   "outputs": [
    {
     "data": {
      "text/plain": [
       "en    242149\n",
       "fr     26227\n",
       "de     23818\n",
       "es     21915\n",
       "ja     18457\n",
       "       ...  \n",
       "os         1\n",
       "nv         1\n",
       "ii         1\n",
       "ia         1\n",
       "gv         1\n",
       "Name: original_language, Length: 156, dtype: int64"
      ]
     },
     "execution_count": 12,
     "metadata": {},
     "output_type": "execute_result"
    }
   ],
   "source": [
    "df['original_language'].value_counts()"
   ]
  },
  {
   "cell_type": "code",
   "execution_count": 13,
   "id": "1f3a07a4-7fc9-4a7c-9428-fb1c7b7470ef",
   "metadata": {
    "tags": []
   },
   "outputs": [],
   "source": [
    "language_counts = df['original_language'].value_counts()\n",
    "languages_to_keep = language_counts[language_counts >= 100000].index\n",
    "df = df[df['original_language'].isin(languages_to_keep)]"
   ]
  },
  {
   "cell_type": "code",
   "execution_count": 14,
   "id": "58c269a0-ce7d-4168-bd5b-4138e749e550",
   "metadata": {
    "jp-MarkdownHeadingCollapsed": true,
    "tags": []
   },
   "outputs": [
    {
     "data": {
      "text/plain": [
       "en    242149\n",
       "Name: original_language, dtype: int64"
      ]
     },
     "execution_count": 14,
     "metadata": {},
     "output_type": "execute_result"
    }
   ],
   "source": [
    "df['original_language'].value_counts()"
   ]
  },
  {
   "cell_type": "code",
   "execution_count": 15,
   "id": "1fa3ab8d-3838-48c8-b1b6-a31c05cb3a8f",
   "metadata": {
    "tags": []
   },
   "outputs": [],
   "source": [
    "df = df[df.vote_count >= 20].reset_index()"
   ]
  },
  {
   "cell_type": "code",
   "execution_count": 16,
   "id": "85d19784-2aae-4973-ba05-22a1910090c0",
   "metadata": {
    "tags": []
   },
   "outputs": [],
   "source": [
    "df['genres'] = df['genres'].str.replace('-', ' ',regex=False)\n",
    "df['keywords'] = df['keywords'].str.replace('-', ' ',regex=False)\n",
    "df['credits'] = df['credits'].str.replace('-', ' ',regex=False)\n",
    "df['overview'] = df['overview'].str.replace('-', ' ',regex=False)"
   ]
  },
  {
   "cell_type": "code",
   "execution_count": 17,
   "id": "ca5c82d6-7613-4cbc-9ef0-694b00e75e62",
   "metadata": {
    "tags": []
   },
   "outputs": [],
   "source": [
    "names = []\n",
    "for credit in df['credits'].to_list():\n",
    "    names.append(' '.join(credit.split(' ')[:6]))"
   ]
  },
  {
   "cell_type": "code",
   "execution_count": 18,
   "id": "3fde5ca3-ea1d-414b-9487-3d61757a690d",
   "metadata": {
    "tags": []
   },
   "outputs": [
    {
     "data": {
      "text/plain": [
       "'Paul Rudd Evangeline Lilly Jonathan Majors'"
      ]
     },
     "execution_count": 18,
     "metadata": {},
     "output_type": "execute_result"
    }
   ],
   "source": [
    "names[5]"
   ]
  },
  {
   "cell_type": "code",
   "execution_count": 19,
   "id": "5c096c51-e896-48a9-b912-bb73d7cdaa86",
   "metadata": {
    "tags": []
   },
   "outputs": [],
   "source": [
    "df['tags'] = df['overview'] +' '+ df['genres'] +' '+ df['keywords'] +' '+ df['credits'] "
   ]
  },
  {
   "cell_type": "code",
   "execution_count": 20,
   "id": "32ed2b8a-6fa0-40bf-a848-14a5f4be888f",
   "metadata": {
    "tags": []
   },
   "outputs": [
    {
     "data": {
      "text/plain": [
       "'Following their explosive showdown Godzilla and Kong must reunite against a colossal undiscovered threat hidden within our world challenging their very existence – and our own. Science Fiction Action Adventure giant monster sequel dinosaur kaiju fantasy world giant ape godzilla king kong mongkey Rebecca Hall Brian Tyree Henry Dan Stevens Kaylee Hottle Alex Ferns Fala Chen Rachel House Ron Smyck Chantelle Jamieson Greg Hatton Kevin Copeland Tess Dobre Tim Carroll Anthony Brandon Wong Sophia Emberson Bain Chika Ikogwe Vincent B. Gorce Yeye Zhou Jamaliah Othman Nick Lawler Jordy Campbell Cassie Riley Robert Clavero Patrick Moroney'"
      ]
     },
     "execution_count": 20,
     "metadata": {},
     "output_type": "execute_result"
    }
   ],
   "source": [
    "df.tags[0]"
   ]
  },
  {
   "cell_type": "code",
   "execution_count": 21,
   "id": "3dc1dd99-fad8-49b9-8818-2844dabebccf",
   "metadata": {
    "tags": []
   },
   "outputs": [],
   "source": [
    "df['names'] = names"
   ]
  },
  {
   "cell_type": "code",
   "execution_count": 22,
   "id": "1b99b0ed-5f32-4211-a06c-558438825e7c",
   "metadata": {
    "tags": []
   },
   "outputs": [
    {
     "data": {
      "text/html": [
       "<div>\n",
       "<style scoped>\n",
       "    .dataframe tbody tr th:only-of-type {\n",
       "        vertical-align: middle;\n",
       "    }\n",
       "\n",
       "    .dataframe tbody tr th {\n",
       "        vertical-align: top;\n",
       "    }\n",
       "\n",
       "    .dataframe thead th {\n",
       "        text-align: right;\n",
       "    }\n",
       "</style>\n",
       "<table border=\"1\" class=\"dataframe\">\n",
       "  <thead>\n",
       "    <tr style=\"text-align: right;\">\n",
       "      <th></th>\n",
       "      <th>index</th>\n",
       "      <th>id</th>\n",
       "      <th>title</th>\n",
       "      <th>genres</th>\n",
       "      <th>original_language</th>\n",
       "      <th>overview</th>\n",
       "      <th>popularity</th>\n",
       "      <th>production_companies</th>\n",
       "      <th>release_date</th>\n",
       "      <th>budget</th>\n",
       "      <th>...</th>\n",
       "      <th>tagline</th>\n",
       "      <th>vote_average</th>\n",
       "      <th>vote_count</th>\n",
       "      <th>credits</th>\n",
       "      <th>keywords</th>\n",
       "      <th>poster_path</th>\n",
       "      <th>backdrop_path</th>\n",
       "      <th>recommendations</th>\n",
       "      <th>tags</th>\n",
       "      <th>names</th>\n",
       "    </tr>\n",
       "  </thead>\n",
       "  <tbody>\n",
       "    <tr>\n",
       "      <th>0</th>\n",
       "      <td>0</td>\n",
       "      <td>823464</td>\n",
       "      <td>Godzilla x Kong: The New Empire</td>\n",
       "      <td>Science Fiction Action Adventure</td>\n",
       "      <td>en</td>\n",
       "      <td>Following their explosive showdown Godzilla an...</td>\n",
       "      <td>10484.676</td>\n",
       "      <td>Legendary Pictures-Warner Bros. Pictures</td>\n",
       "      <td>2024-03-27</td>\n",
       "      <td>150000000.0</td>\n",
       "      <td>...</td>\n",
       "      <td>Rise together or fall alone.</td>\n",
       "      <td>7.246</td>\n",
       "      <td>1878.0</td>\n",
       "      <td>Rebecca Hall Brian Tyree Henry Dan Stevens Kay...</td>\n",
       "      <td>giant monster sequel dinosaur kaiju fantasy wo...</td>\n",
       "      <td>/v4uvGFAkKuYfyKLGZnYj6l47ERQ.jpg</td>\n",
       "      <td>/j3Z3XktmWB1VhsS8iXNcrR86PXi.jpg</td>\n",
       "      <td>1011985-1275232-359410-601796-967847-653346-69...</td>\n",
       "      <td>Following their explosive showdown Godzilla an...</td>\n",
       "      <td>Rebecca Hall Brian Tyree Henry Dan</td>\n",
       "    </tr>\n",
       "    <tr>\n",
       "      <th>1</th>\n",
       "      <td>1</td>\n",
       "      <td>615656</td>\n",
       "      <td>Meg 2: The Trench</td>\n",
       "      <td>Action Science Fiction Horror</td>\n",
       "      <td>en</td>\n",
       "      <td>An exploratory dive into the deepest depths of...</td>\n",
       "      <td>8763.998</td>\n",
       "      <td>Apelles Entertainment-Warner Bros. Pictures-di...</td>\n",
       "      <td>2023-08-02</td>\n",
       "      <td>129000000.0</td>\n",
       "      <td>...</td>\n",
       "      <td>Back for seconds.</td>\n",
       "      <td>7.079</td>\n",
       "      <td>1365.0</td>\n",
       "      <td>Jason Statham Wu Jing Shuya Sophia Cai Sergio ...</td>\n",
       "      <td>based on novel or book sequel kaiju</td>\n",
       "      <td>/4m1Au3YkjqsxF8iwQy0fPYSxE0h.jpg</td>\n",
       "      <td>/qlxy8yo5bcgUw2KAmmojUKp4rHd.jpg</td>\n",
       "      <td>1006462-298618-569094-1061181-346698-1076487-6...</td>\n",
       "      <td>An exploratory dive into the deepest depths of...</td>\n",
       "      <td>Jason Statham Wu Jing Shuya Sophia</td>\n",
       "    </tr>\n",
       "    <tr>\n",
       "      <th>2</th>\n",
       "      <td>2</td>\n",
       "      <td>758323</td>\n",
       "      <td>The Pope's Exorcist</td>\n",
       "      <td>Horror Mystery Thriller</td>\n",
       "      <td>en</td>\n",
       "      <td>Father Gabriele Amorth Chief Exorcist of the V...</td>\n",
       "      <td>5953.227</td>\n",
       "      <td>Screen Gems-2.0 Entertainment-Jesus &amp; Mary-Wor...</td>\n",
       "      <td>2023-04-05</td>\n",
       "      <td>18000000.0</td>\n",
       "      <td>...</td>\n",
       "      <td>Inspired by the actual files of Father Gabriel...</td>\n",
       "      <td>7.433</td>\n",
       "      <td>545.0</td>\n",
       "      <td>Russell Crowe Daniel Zovatto Alex Essoe Franco...</td>\n",
       "      <td>spain rome italy vatican pope pig possession c...</td>\n",
       "      <td>/9JBEPLTPSm0d1mbEcLxULjJq9Eh.jpg</td>\n",
       "      <td>/hiHGRbyTcbZoLsYYkO4QiCLYe34.jpg</td>\n",
       "      <td>713704-296271-502356-1076605-1084225-1008005-9...</td>\n",
       "      <td>Father Gabriele Amorth Chief Exorcist of the V...</td>\n",
       "      <td>Russell Crowe Daniel Zovatto Alex Essoe</td>\n",
       "    </tr>\n",
       "    <tr>\n",
       "      <th>3</th>\n",
       "      <td>3</td>\n",
       "      <td>667538</td>\n",
       "      <td>Transformers: Rise of the Beasts</td>\n",
       "      <td>Action Adventure Science Fiction</td>\n",
       "      <td>en</td>\n",
       "      <td>When a new threat capable of destroying the en...</td>\n",
       "      <td>5409.104</td>\n",
       "      <td>Skydance-Paramount-di Bonaventura Pictures-Bay...</td>\n",
       "      <td>2023-06-06</td>\n",
       "      <td>200000000.0</td>\n",
       "      <td>...</td>\n",
       "      <td>Unite or fall.</td>\n",
       "      <td>7.340</td>\n",
       "      <td>1007.0</td>\n",
       "      <td>Anthony Ramos Dominique Fishback Luna Lauren V...</td>\n",
       "      <td>peru alien end of the world based on cartoon b...</td>\n",
       "      <td>/gPbM0MK8CP8A174rmUwGsADNYKD.jpg</td>\n",
       "      <td>/woJbg7ZqidhpvqFGGMRhWQNoxwa.jpg</td>\n",
       "      <td>496450-569094-298618-385687-877100-598331-4628...</td>\n",
       "      <td>When a new threat capable of destroying the en...</td>\n",
       "      <td>Anthony Ramos Dominique Fishback Luna Lauren</td>\n",
       "    </tr>\n",
       "    <tr>\n",
       "      <th>4</th>\n",
       "      <td>4</td>\n",
       "      <td>693134</td>\n",
       "      <td>Dune: Part Two</td>\n",
       "      <td>Science Fiction Adventure</td>\n",
       "      <td>en</td>\n",
       "      <td>Follow the mythic journey of Paul Atreides as ...</td>\n",
       "      <td>4742.163</td>\n",
       "      <td>Legendary Pictures</td>\n",
       "      <td>2024-02-27</td>\n",
       "      <td>190000000.0</td>\n",
       "      <td>...</td>\n",
       "      <td>Long live the fighters.</td>\n",
       "      <td>8.300</td>\n",
       "      <td>2770.0</td>\n",
       "      <td>Timothée Chalamet Zendaya Rebecca Ferguson Jav...</td>\n",
       "      <td>epic based on novel or book fight sandstorm sa...</td>\n",
       "      <td>/czembW0Rk1Ke7lCJGahbOhdCuhV.jpg</td>\n",
       "      <td>/xOMo8BRK7PfcJv9JCnx7s5hj0PX.jpg</td>\n",
       "      <td>438631-763215-792307-1011985-467244-634492-359...</td>\n",
       "      <td>Follow the mythic journey of Paul Atreides as ...</td>\n",
       "      <td>Timothée Chalamet Zendaya Rebecca Ferguson Javier</td>\n",
       "    </tr>\n",
       "  </tbody>\n",
       "</table>\n",
       "<p>5 rows × 23 columns</p>\n",
       "</div>"
      ],
      "text/plain": [
       "   index      id                             title  \\\n",
       "0      0  823464   Godzilla x Kong: The New Empire   \n",
       "1      1  615656                 Meg 2: The Trench   \n",
       "2      2  758323               The Pope's Exorcist   \n",
       "3      3  667538  Transformers: Rise of the Beasts   \n",
       "4      4  693134                    Dune: Part Two   \n",
       "\n",
       "                             genres original_language  \\\n",
       "0  Science Fiction Action Adventure                en   \n",
       "1     Action Science Fiction Horror                en   \n",
       "2           Horror Mystery Thriller                en   \n",
       "3  Action Adventure Science Fiction                en   \n",
       "4         Science Fiction Adventure                en   \n",
       "\n",
       "                                            overview  popularity  \\\n",
       "0  Following their explosive showdown Godzilla an...   10484.676   \n",
       "1  An exploratory dive into the deepest depths of...    8763.998   \n",
       "2  Father Gabriele Amorth Chief Exorcist of the V...    5953.227   \n",
       "3  When a new threat capable of destroying the en...    5409.104   \n",
       "4  Follow the mythic journey of Paul Atreides as ...    4742.163   \n",
       "\n",
       "                                production_companies release_date  \\\n",
       "0           Legendary Pictures-Warner Bros. Pictures   2024-03-27   \n",
       "1  Apelles Entertainment-Warner Bros. Pictures-di...   2023-08-02   \n",
       "2  Screen Gems-2.0 Entertainment-Jesus & Mary-Wor...   2023-04-05   \n",
       "3  Skydance-Paramount-di Bonaventura Pictures-Bay...   2023-06-06   \n",
       "4                                 Legendary Pictures   2024-02-27   \n",
       "\n",
       "        budget  ...                                            tagline  \\\n",
       "0  150000000.0  ...                       Rise together or fall alone.   \n",
       "1  129000000.0  ...                                  Back for seconds.   \n",
       "2   18000000.0  ...  Inspired by the actual files of Father Gabriel...   \n",
       "3  200000000.0  ...                                     Unite or fall.   \n",
       "4  190000000.0  ...                            Long live the fighters.   \n",
       "\n",
       "  vote_average vote_count                                            credits  \\\n",
       "0        7.246     1878.0  Rebecca Hall Brian Tyree Henry Dan Stevens Kay...   \n",
       "1        7.079     1365.0  Jason Statham Wu Jing Shuya Sophia Cai Sergio ...   \n",
       "2        7.433      545.0  Russell Crowe Daniel Zovatto Alex Essoe Franco...   \n",
       "3        7.340     1007.0  Anthony Ramos Dominique Fishback Luna Lauren V...   \n",
       "4        8.300     2770.0  Timothée Chalamet Zendaya Rebecca Ferguson Jav...   \n",
       "\n",
       "                                            keywords  \\\n",
       "0  giant monster sequel dinosaur kaiju fantasy wo...   \n",
       "1                based on novel or book sequel kaiju   \n",
       "2  spain rome italy vatican pope pig possession c...   \n",
       "3  peru alien end of the world based on cartoon b...   \n",
       "4  epic based on novel or book fight sandstorm sa...   \n",
       "\n",
       "                        poster_path                     backdrop_path  \\\n",
       "0  /v4uvGFAkKuYfyKLGZnYj6l47ERQ.jpg  /j3Z3XktmWB1VhsS8iXNcrR86PXi.jpg   \n",
       "1  /4m1Au3YkjqsxF8iwQy0fPYSxE0h.jpg  /qlxy8yo5bcgUw2KAmmojUKp4rHd.jpg   \n",
       "2  /9JBEPLTPSm0d1mbEcLxULjJq9Eh.jpg  /hiHGRbyTcbZoLsYYkO4QiCLYe34.jpg   \n",
       "3  /gPbM0MK8CP8A174rmUwGsADNYKD.jpg  /woJbg7ZqidhpvqFGGMRhWQNoxwa.jpg   \n",
       "4  /czembW0Rk1Ke7lCJGahbOhdCuhV.jpg  /xOMo8BRK7PfcJv9JCnx7s5hj0PX.jpg   \n",
       "\n",
       "                                     recommendations  \\\n",
       "0  1011985-1275232-359410-601796-967847-653346-69...   \n",
       "1  1006462-298618-569094-1061181-346698-1076487-6...   \n",
       "2  713704-296271-502356-1076605-1084225-1008005-9...   \n",
       "3  496450-569094-298618-385687-877100-598331-4628...   \n",
       "4  438631-763215-792307-1011985-467244-634492-359...   \n",
       "\n",
       "                                                tags  \\\n",
       "0  Following their explosive showdown Godzilla an...   \n",
       "1  An exploratory dive into the deepest depths of...   \n",
       "2  Father Gabriele Amorth Chief Exorcist of the V...   \n",
       "3  When a new threat capable of destroying the en...   \n",
       "4  Follow the mythic journey of Paul Atreides as ...   \n",
       "\n",
       "                                               names  \n",
       "0                 Rebecca Hall Brian Tyree Henry Dan  \n",
       "1                 Jason Statham Wu Jing Shuya Sophia  \n",
       "2            Russell Crowe Daniel Zovatto Alex Essoe  \n",
       "3       Anthony Ramos Dominique Fishback Luna Lauren  \n",
       "4  Timothée Chalamet Zendaya Rebecca Ferguson Javier  \n",
       "\n",
       "[5 rows x 23 columns]"
      ]
     },
     "execution_count": 22,
     "metadata": {},
     "output_type": "execute_result"
    }
   ],
   "source": [
    "df.head()"
   ]
  },
  {
   "cell_type": "code",
   "execution_count": 23,
   "id": "9346d156-fa3c-4b94-9f94-c4616919c2dd",
   "metadata": {
    "tags": []
   },
   "outputs": [],
   "source": [
    "df['genres']=df['genres'].str.replace(\" \",\"\")\n",
    "df['names']=df['names'].str.replace(\" \",\"\")"
   ]
  },
  {
   "cell_type": "code",
   "execution_count": 24,
   "id": "3e8bac54-59dd-4e3b-bf21-de2ae99a3863",
   "metadata": {
    "tags": []
   },
   "outputs": [],
   "source": [
    "df['tags'] = df['overview'] +' '+ df['genres'] +' '+ df['keywords'] +' '+ df['names']"
   ]
  },
  {
   "cell_type": "code",
   "execution_count": 25,
   "id": "d07d1ddc-0d41-4296-bc22-1f7f101f605f",
   "metadata": {
    "tags": []
   },
   "outputs": [
    {
     "data": {
      "text/plain": [
       "'Following their explosive showdown Godzilla and Kong must reunite against a colossal undiscovered threat hidden within our world challenging their very existence – and our own. ScienceFictionActionAdventure giant monster sequel dinosaur kaiju fantasy world giant ape godzilla king kong mongkey RebeccaHallBrianTyreeHenryDan'"
      ]
     },
     "execution_count": 25,
     "metadata": {},
     "output_type": "execute_result"
    }
   ],
   "source": [
    "df.tags[0]"
   ]
  },
  {
   "cell_type": "code",
   "execution_count": 26,
   "id": "b4c14e81-5546-4239-8f09-7b7458bce6dc",
   "metadata": {
    "tags": []
   },
   "outputs": [],
   "source": [
    "df['tags']=df['tags'].apply(lambda x : x.lower())\n",
    "df['title']=df['title'].apply(lambda x : x.lower())"
   ]
  },
  {
   "cell_type": "code",
   "execution_count": 27,
   "id": "16b04d3f-2794-4e1c-a8b8-5f6339a26cf0",
   "metadata": {
    "tags": []
   },
   "outputs": [
    {
     "data": {
      "text/plain": [
       "'following their explosive showdown godzilla and kong must reunite against a colossal undiscovered threat hidden within our world challenging their very existence – and our own. sciencefictionactionadventure giant monster sequel dinosaur kaiju fantasy world giant ape godzilla king kong mongkey rebeccahallbriantyreehenrydan'"
      ]
     },
     "execution_count": 27,
     "metadata": {},
     "output_type": "execute_result"
    }
   ],
   "source": [
    "df.tags[0]"
   ]
  },
  {
   "cell_type": "code",
   "execution_count": 28,
   "id": "c45ee3e2-748c-4e2e-b3bb-8f3773a9682d",
   "metadata": {
    "tags": []
   },
   "outputs": [
    {
     "data": {
      "text/plain": [
       "(27902, 23)"
      ]
     },
     "execution_count": 28,
     "metadata": {},
     "output_type": "execute_result"
    }
   ],
   "source": [
    "df.shape"
   ]
  },
  {
   "cell_type": "code",
   "execution_count": 29,
   "id": "4bfb0b5c-0735-44bf-8938-bf46e772f62c",
   "metadata": {
    "tags": []
   },
   "outputs": [
    {
     "data": {
      "text/html": [
       "<div>\n",
       "<style scoped>\n",
       "    .dataframe tbody tr th:only-of-type {\n",
       "        vertical-align: middle;\n",
       "    }\n",
       "\n",
       "    .dataframe tbody tr th {\n",
       "        vertical-align: top;\n",
       "    }\n",
       "\n",
       "    .dataframe thead th {\n",
       "        text-align: right;\n",
       "    }\n",
       "</style>\n",
       "<table border=\"1\" class=\"dataframe\">\n",
       "  <thead>\n",
       "    <tr style=\"text-align: right;\">\n",
       "      <th></th>\n",
       "      <th>index</th>\n",
       "      <th>id</th>\n",
       "      <th>title</th>\n",
       "      <th>genres</th>\n",
       "      <th>original_language</th>\n",
       "      <th>overview</th>\n",
       "      <th>popularity</th>\n",
       "      <th>production_companies</th>\n",
       "      <th>release_date</th>\n",
       "      <th>budget</th>\n",
       "      <th>...</th>\n",
       "      <th>tagline</th>\n",
       "      <th>vote_average</th>\n",
       "      <th>vote_count</th>\n",
       "      <th>credits</th>\n",
       "      <th>keywords</th>\n",
       "      <th>poster_path</th>\n",
       "      <th>backdrop_path</th>\n",
       "      <th>recommendations</th>\n",
       "      <th>tags</th>\n",
       "      <th>names</th>\n",
       "    </tr>\n",
       "  </thead>\n",
       "  <tbody>\n",
       "    <tr>\n",
       "      <th>17197</th>\n",
       "      <td>30226</td>\n",
       "      <td>192133</td>\n",
       "      <td>jimi: all is by my side</td>\n",
       "      <td>DramaMusic</td>\n",
       "      <td>en</td>\n",
       "      <td>A drama based on Jimi Hendrix's life as he lef...</td>\n",
       "      <td>6.060</td>\n",
       "      <td>Darko Entertainment-Freeman Film-Subotica Ente...</td>\n",
       "      <td>2013-09-07</td>\n",
       "      <td>0.0</td>\n",
       "      <td>...</td>\n",
       "      <td></td>\n",
       "      <td>5.6</td>\n",
       "      <td>148.0</td>\n",
       "      <td>André 3000 Hayley Atwell Imogen Poots Burn Gor...</td>\n",
       "      <td></td>\n",
       "      <td>/j1bmOXGXQ1pcqvHkVjsk0sXaF5e.jpg</td>\n",
       "      <td>/cgLiIJe1aW0J007EUUnWUpMX2Wt.jpg</td>\n",
       "      <td></td>\n",
       "      <td>a drama based on jimi hendrix's life as he lef...</td>\n",
       "      <td>André3000HayleyAtwellImogenPoots</td>\n",
       "    </tr>\n",
       "    <tr>\n",
       "      <th>26841</th>\n",
       "      <td>80810</td>\n",
       "      <td>634772</td>\n",
       "      <td>walk run cha-cha</td>\n",
       "      <td>Documentary</td>\n",
       "      <td>en</td>\n",
       "      <td>Paul and Millie Cao lost their youth to the af...</td>\n",
       "      <td>2.391</td>\n",
       "      <td>The New York Times-Concordia Studio-Felt Films</td>\n",
       "      <td>2019-04-25</td>\n",
       "      <td>0.0</td>\n",
       "      <td>...</td>\n",
       "      <td></td>\n",
       "      <td>5.6</td>\n",
       "      <td>28.0</td>\n",
       "      <td>Chipaul Cao Millie Cao Maksym Kapitanchuk Elen...</td>\n",
       "      <td></td>\n",
       "      <td>/tvsqaTjSkLyYiZbWd769UvPszT6.jpg</td>\n",
       "      <td>/epN1w49b6EEQJs8seWW05w2RtID.jpg</td>\n",
       "      <td>612074-600274-581465-592303-574074-593280-6085...</td>\n",
       "      <td>paul and millie cao lost their youth to the af...</td>\n",
       "      <td>ChipaulCaoMillieCaoMaksymKapitanchuk</td>\n",
       "    </tr>\n",
       "    <tr>\n",
       "      <th>14714</th>\n",
       "      <td>24755</td>\n",
       "      <td>43650</td>\n",
       "      <td>the legend of sleepy hollow</td>\n",
       "      <td>FamilyAnimationHorror</td>\n",
       "      <td>en</td>\n",
       "      <td>Washington Irving's tale of Ichabod Crane and ...</td>\n",
       "      <td>7.246</td>\n",
       "      <td>Walt Disney Productions</td>\n",
       "      <td>1949-10-08</td>\n",
       "      <td>0.0</td>\n",
       "      <td>...</td>\n",
       "      <td>Bing and Walt ride herd on The Headless Horseman!</td>\n",
       "      <td>7.6</td>\n",
       "      <td>223.0</td>\n",
       "      <td>Bing Crosby Pinto Colvig Billy Bletcher Claren...</td>\n",
       "      <td>halloween headless horseman short film</td>\n",
       "      <td>/6bt8qmhxVsgbxFLQCoAcekdCFiw.jpg</td>\n",
       "      <td>/tZtawSPJIMCjXOJrUHOlOjJQf5e.jpg</td>\n",
       "      <td>13465-15947-46929-72640-125244-22752-4786-6687...</td>\n",
       "      <td>washington irving's tale of ichabod crane and ...</td>\n",
       "      <td>BingCrosbyPintoColvigBillyBletcher</td>\n",
       "    </tr>\n",
       "    <tr>\n",
       "      <th>3025</th>\n",
       "      <td>4495</td>\n",
       "      <td>413644</td>\n",
       "      <td>the son of bigfoot</td>\n",
       "      <td>FamilyAnimationComedy</td>\n",
       "      <td>en</td>\n",
       "      <td>Teenage outsider Adam sets out on an epic and ...</td>\n",
       "      <td>23.928</td>\n",
       "      <td>StudioCanal-Belga Films-nWave Pictures-Illumin...</td>\n",
       "      <td>2017-07-26</td>\n",
       "      <td>30000000.0</td>\n",
       "      <td>...</td>\n",
       "      <td>Meet the wildest family around!</td>\n",
       "      <td>6.6</td>\n",
       "      <td>407.0</td>\n",
       "      <td>Pappy Faulkner Cinda Adams Jeff Doucette Laila...</td>\n",
       "      <td>bigfoot villain forest father laboratory anthr...</td>\n",
       "      <td>/5yCQvhFuFPY0pACxoUpLUlYCxop.jpg</td>\n",
       "      <td>/xydu6XhKVFf5FomLi9diWjoWc5d.jpg</td>\n",
       "      <td>702525-364689-342473-218836-268531-332210-1001...</td>\n",
       "      <td>teenage outsider adam sets out on an epic and ...</td>\n",
       "      <td>PappyFaulknerCindaAdamsJeffDoucette</td>\n",
       "    </tr>\n",
       "    <tr>\n",
       "      <th>27061</th>\n",
       "      <td>86189</td>\n",
       "      <td>38512</td>\n",
       "      <td>screw loose</td>\n",
       "      <td>Comedy</td>\n",
       "      <td>en</td>\n",
       "      <td>The owner of an Italian natural food company h...</td>\n",
       "      <td>2.244</td>\n",
       "      <td></td>\n",
       "      <td>1999-02-19</td>\n",
       "      <td>0.0</td>\n",
       "      <td>...</td>\n",
       "      <td>Ti faranno ridere...da matti!</td>\n",
       "      <td>3.9</td>\n",
       "      <td>38.0</td>\n",
       "      <td>Ezio Greggio Mel Brooks Gianfranco Barra Randi...</td>\n",
       "      <td>heart attack hospital</td>\n",
       "      <td>/tUT6pVdkIBNrMhbs9yWoOEecyqD.jpg</td>\n",
       "      <td>/pZ0tsrG55TlrRKCBFTZJzykk9aj.jpg</td>\n",
       "      <td>18487-11823-9800-43593-9896-95-591-51876-14-49...</td>\n",
       "      <td>the owner of an italian natural food company h...</td>\n",
       "      <td>EzioGreggioMelBrooksGianfrancoBarra</td>\n",
       "    </tr>\n",
       "  </tbody>\n",
       "</table>\n",
       "<p>5 rows × 23 columns</p>\n",
       "</div>"
      ],
      "text/plain": [
       "       index      id                        title                 genres  \\\n",
       "17197  30226  192133      jimi: all is by my side             DramaMusic   \n",
       "26841  80810  634772             walk run cha-cha            Documentary   \n",
       "14714  24755   43650  the legend of sleepy hollow  FamilyAnimationHorror   \n",
       "3025    4495  413644           the son of bigfoot  FamilyAnimationComedy   \n",
       "27061  86189   38512                  screw loose                 Comedy   \n",
       "\n",
       "      original_language                                           overview  \\\n",
       "17197                en  A drama based on Jimi Hendrix's life as he lef...   \n",
       "26841                en  Paul and Millie Cao lost their youth to the af...   \n",
       "14714                en  Washington Irving's tale of Ichabod Crane and ...   \n",
       "3025                 en  Teenage outsider Adam sets out on an epic and ...   \n",
       "27061                en  The owner of an Italian natural food company h...   \n",
       "\n",
       "       popularity                               production_companies  \\\n",
       "17197       6.060  Darko Entertainment-Freeman Film-Subotica Ente...   \n",
       "26841       2.391     The New York Times-Concordia Studio-Felt Films   \n",
       "14714       7.246                            Walt Disney Productions   \n",
       "3025       23.928  StudioCanal-Belga Films-nWave Pictures-Illumin...   \n",
       "27061       2.244                                                      \n",
       "\n",
       "      release_date      budget  ...  \\\n",
       "17197   2013-09-07         0.0  ...   \n",
       "26841   2019-04-25         0.0  ...   \n",
       "14714   1949-10-08         0.0  ...   \n",
       "3025    2017-07-26  30000000.0  ...   \n",
       "27061   1999-02-19         0.0  ...   \n",
       "\n",
       "                                                 tagline vote_average  \\\n",
       "17197                                                             5.6   \n",
       "26841                                                             5.6   \n",
       "14714  Bing and Walt ride herd on The Headless Horseman!          7.6   \n",
       "3025                     Meet the wildest family around!          6.6   \n",
       "27061                      Ti faranno ridere...da matti!          3.9   \n",
       "\n",
       "      vote_count                                            credits  \\\n",
       "17197      148.0  André 3000 Hayley Atwell Imogen Poots Burn Gor...   \n",
       "26841       28.0  Chipaul Cao Millie Cao Maksym Kapitanchuk Elen...   \n",
       "14714      223.0  Bing Crosby Pinto Colvig Billy Bletcher Claren...   \n",
       "3025       407.0  Pappy Faulkner Cinda Adams Jeff Doucette Laila...   \n",
       "27061       38.0  Ezio Greggio Mel Brooks Gianfranco Barra Randi...   \n",
       "\n",
       "                                                keywords  \\\n",
       "17197                                                      \n",
       "26841                                                      \n",
       "14714             halloween headless horseman short film   \n",
       "3025   bigfoot villain forest father laboratory anthr...   \n",
       "27061                              heart attack hospital   \n",
       "\n",
       "                            poster_path                     backdrop_path  \\\n",
       "17197  /j1bmOXGXQ1pcqvHkVjsk0sXaF5e.jpg  /cgLiIJe1aW0J007EUUnWUpMX2Wt.jpg   \n",
       "26841  /tvsqaTjSkLyYiZbWd769UvPszT6.jpg  /epN1w49b6EEQJs8seWW05w2RtID.jpg   \n",
       "14714  /6bt8qmhxVsgbxFLQCoAcekdCFiw.jpg  /tZtawSPJIMCjXOJrUHOlOjJQf5e.jpg   \n",
       "3025   /5yCQvhFuFPY0pACxoUpLUlYCxop.jpg  /xydu6XhKVFf5FomLi9diWjoWc5d.jpg   \n",
       "27061  /tUT6pVdkIBNrMhbs9yWoOEecyqD.jpg  /pZ0tsrG55TlrRKCBFTZJzykk9aj.jpg   \n",
       "\n",
       "                                         recommendations  \\\n",
       "17197                                                      \n",
       "26841  612074-600274-581465-592303-574074-593280-6085...   \n",
       "14714  13465-15947-46929-72640-125244-22752-4786-6687...   \n",
       "3025   702525-364689-342473-218836-268531-332210-1001...   \n",
       "27061  18487-11823-9800-43593-9896-95-591-51876-14-49...   \n",
       "\n",
       "                                                    tags  \\\n",
       "17197  a drama based on jimi hendrix's life as he lef...   \n",
       "26841  paul and millie cao lost their youth to the af...   \n",
       "14714  washington irving's tale of ichabod crane and ...   \n",
       "3025   teenage outsider adam sets out on an epic and ...   \n",
       "27061  the owner of an italian natural food company h...   \n",
       "\n",
       "                                      names  \n",
       "17197      André3000HayleyAtwellImogenPoots  \n",
       "26841  ChipaulCaoMillieCaoMaksymKapitanchuk  \n",
       "14714    BingCrosbyPintoColvigBillyBletcher  \n",
       "3025    PappyFaulknerCindaAdamsJeffDoucette  \n",
       "27061   EzioGreggioMelBrooksGianfrancoBarra  \n",
       "\n",
       "[5 rows x 23 columns]"
      ]
     },
     "execution_count": 29,
     "metadata": {},
     "output_type": "execute_result"
    }
   ],
   "source": [
    "df.sample(5)"
   ]
  },
  {
   "cell_type": "code",
   "execution_count": 30,
   "id": "d732e4b5-0d4e-478e-b2e4-d0f5720f93d7",
   "metadata": {
    "tags": []
   },
   "outputs": [],
   "source": [
    "import nltk\n",
    "from nltk.stem.porter import PorterStemmer\n",
    "ps = PorterStemmer()"
   ]
  },
  {
   "cell_type": "code",
   "execution_count": 31,
   "id": "e5048798-05fb-420b-84ef-3d1392525b96",
   "metadata": {
    "tags": []
   },
   "outputs": [],
   "source": [
    "def stem(text):\n",
    "    y = []\n",
    "    for i in text.split():\n",
    "        y.append(ps.stem(i))\n",
    "    return \" \".join(y)    \n",
    "df[\"tags\"] = df[\"tags\"].apply(stem)"
   ]
  },
  {
   "cell_type": "code",
   "execution_count": 32,
   "id": "42bddde9-f1cd-43c1-89a0-d33be907b979",
   "metadata": {
    "tags": []
   },
   "outputs": [],
   "source": [
    "from sklearn.feature_extraction.text import CountVectorizer\n",
    "cv = CountVectorizer(stop_words=\"english\",max_features=5000)\n",
    "vectors = cv.fit_transform(df[\"tags\"]).toarray()"
   ]
  },
  {
   "cell_type": "code",
   "execution_count": 33,
   "id": "a5052cf6-f88d-41f4-90c9-4617c230bcf8",
   "metadata": {
    "tags": []
   },
   "outputs": [
    {
     "data": {
      "text/plain": [
       "(5000,)"
      ]
     },
     "execution_count": 33,
     "metadata": {},
     "output_type": "execute_result"
    }
   ],
   "source": [
    "vectors[5].shape"
   ]
  },
  {
   "cell_type": "code",
   "execution_count": null,
   "id": "ea8bb65f-5ba1-4f43-a733-dc83ce478d79",
   "metadata": {
    "tags": []
   },
   "outputs": [],
   "source": [
    "from sklearn.metrics.pairwise import cosine_similarity\n",
    "similarity = cosine_similarity(vectors)\n",
    "similarity.shape"
   ]
  },
  {
   "cell_type": "code",
   "execution_count": null,
   "id": "1ec19653-5344-4133-b23c-353c04fd5e6b",
   "metadata": {
    "tags": []
   },
   "outputs": [],
   "source": [
    "similarity[1]"
   ]
  },
  {
   "cell_type": "code",
   "execution_count": null,
   "id": "b0a1ed0e-acfd-43dc-bff1-1c2964f95ccb",
   "metadata": {
    "tags": []
   },
   "outputs": [],
   "source": [
    "def recommend(movies):\n",
    "    movies=movies.lower()\n",
    "    movie_index = df[df.title == movies].index[0]\n",
    "    distances = similarity[movie_index]\n",
    "    movies_list = sorted(list(enumerate(distances)), reverse=True, key= lambda x:x[1])[1:6]\n",
    "    for i in movies_list:\n",
    "        print(df.iloc[i[0]].title)"
   ]
  },
  {
   "cell_type": "code",
   "execution_count": null,
   "id": "04f91c9f-4042-49c8-b993-82a98981e24d",
   "metadata": {
    "tags": []
   },
   "outputs": [],
   "source": [
    "recommend(\"Batman\")"
   ]
  },
  {
   "cell_type": "code",
   "execution_count": null,
   "id": "866dea01-ca01-4fae-994b-9c92ff5489da",
   "metadata": {},
   "outputs": [],
   "source": []
  },
  {
   "cell_type": "code",
   "execution_count": null,
   "id": "d759b40a-c6d4-4b6e-a017-031ea4de0e15",
   "metadata": {},
   "outputs": [],
   "source": []
  },
  {
   "cell_type": "code",
   "execution_count": null,
   "id": "fe6f78e9-acf9-42f8-b5e8-4a6f2c2f3d8e",
   "metadata": {},
   "outputs": [],
   "source": []
  },
  {
   "cell_type": "code",
   "execution_count": null,
   "id": "d18c10a6-7d56-43af-9a46-0255b40ef6bf",
   "metadata": {},
   "outputs": [],
   "source": []
  },
  {
   "cell_type": "code",
   "execution_count": null,
   "id": "4ae5f23b-d5ec-4a02-bd14-5721a0c6b50e",
   "metadata": {},
   "outputs": [],
   "source": []
  },
  {
   "cell_type": "code",
   "execution_count": null,
   "id": "7253b018-7983-428f-95cc-06f70e1ccaa6",
   "metadata": {},
   "outputs": [],
   "source": []
  },
  {
   "cell_type": "code",
   "execution_count": null,
   "id": "8d55fb9e-52da-4842-9999-e7d20bfe63f6",
   "metadata": {},
   "outputs": [],
   "source": []
  },
  {
   "cell_type": "code",
   "execution_count": null,
   "id": "0e959f89-597f-4082-a447-495f694042ff",
   "metadata": {},
   "outputs": [],
   "source": []
  },
  {
   "cell_type": "code",
   "execution_count": null,
   "id": "7a50f56f-350c-424f-8e17-273e7e173636",
   "metadata": {},
   "outputs": [],
   "source": []
  },
  {
   "cell_type": "code",
   "execution_count": null,
   "id": "1fbcf271-6157-4091-aa4e-0e9c8e9003bc",
   "metadata": {},
   "outputs": [],
   "source": []
  },
  {
   "cell_type": "code",
   "execution_count": null,
   "id": "f6c3d120-1f6e-4ea2-8d7c-8b020ced5299",
   "metadata": {},
   "outputs": [],
   "source": []
  },
  {
   "cell_type": "code",
   "execution_count": null,
   "id": "f74d5d46-e905-40ae-b9ce-3f9b7498c282",
   "metadata": {},
   "outputs": [],
   "source": []
  },
  {
   "cell_type": "code",
   "execution_count": null,
   "id": "996fa5b3-7ede-4b47-805f-e7b3bafc4b43",
   "metadata": {},
   "outputs": [],
   "source": []
  }
 ],
 "metadata": {
  "kernelspec": {
   "display_name": "Python 3 (ipykernel)",
   "language": "python",
   "name": "python3"
  },
  "language_info": {
   "codemirror_mode": {
    "name": "ipython",
    "version": 3
   },
   "file_extension": ".py",
   "mimetype": "text/x-python",
   "name": "python",
   "nbconvert_exporter": "python",
   "pygments_lexer": "ipython3",
   "version": "3.9.17"
  }
 },
 "nbformat": 4,
 "nbformat_minor": 5
}
